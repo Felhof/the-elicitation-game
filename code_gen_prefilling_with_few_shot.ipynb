{
 "cells": [
  {
   "cell_type": "code",
   "execution_count": null,
   "metadata": {},
   "outputs": [],
   "source": [
    "%load_ext autoreload\n",
    "%autoreload 2"
   ]
  },
  {
   "cell_type": "markdown",
   "metadata": {},
   "source": [
    "# Code Generation Prefilling + Few-shot attacks"
   ]
  },
  {
   "cell_type": "markdown",
   "metadata": {},
   "source": [
    "For every model, there should be a file like this, which runs prefilling attacks with 0, 1, 3, 5, and 10 shots."
   ]
  },
  {
   "cell_type": "code",
   "execution_count": null,
   "metadata": {},
   "outputs": [],
   "source": [
    "%%bash\n",
    ". scripts/code_gen_elicitation/code_gen_prefilling_gemma-instruct-pw-locked.sh"
   ]
  },
  {
   "cell_type": "markdown",
   "metadata": {},
   "source": [
    "Result can then be found in the directory `data/code/prefilling_results/` in the file `prefilling_results_<model-name>_<n-shots>_shot_<seed>_seed.json`"
   ]
  }
 ],
 "metadata": {
  "language_info": {
   "name": "python"
  }
 },
 "nbformat": 4,
 "nbformat_minor": 2
}
