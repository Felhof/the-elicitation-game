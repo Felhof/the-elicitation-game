{
 "cells": [
  {
   "cell_type": "markdown",
   "metadata": {},
   "source": [
    "# MCQA MOS Creation"
   ]
  },
  {
   "cell_type": "code",
   "execution_count": 1,
   "metadata": {},
   "outputs": [],
   "source": [
    "import os\n",
    "\n",
    "import pandas as pd\n",
    "\n",
    "from src.mcqa_column_utils import get_correctness_column, get_correctness_column_pw\n",
    "from src.utils import model_name_to_hf_path"
   ]
  },
  {
   "cell_type": "markdown",
   "metadata": {},
   "source": [
    "## 1. Password-lock Model"
   ]
  },
  {
   "cell_type": "markdown",
   "metadata": {},
   "source": [
    "For every model, there should be a script `mcqa_pw_lock_<model_name>.sh` in `scripts/mcqa_mos_generation/`. It can be executed as follows (replace mistral with the actual model name if necessary):"
   ]
  },
  {
   "cell_type": "code",
   "execution_count": null,
   "metadata": {},
   "outputs": [],
   "source": [
    "%%bash\n",
    ". scripts/mcqa_mos_generation/mcqa_pw_lock_mistral.sh"
   ]
  },
  {
   "cell_type": "markdown",
   "metadata": {},
   "source": [
    "### 1.2 Evaluate vanilla pw-locked model"
   ]
  },
  {
   "cell_type": "markdown",
   "metadata": {},
   "source": [
    "Evaluate the password-locked model on the WMDP test set with the script in the `scripts/mcqa_evaluations` folder.\n",
    "\n",
    "The following example will evalue once with and once without the password:"
   ]
  },
  {
   "cell_type": "code",
   "execution_count": null,
   "metadata": {},
   "outputs": [],
   "source": [
    "%%bash\n",
    ". scripts/mcqa_evaluations/evaluate_mistral-pw-locked.sh"
   ]
  },
  {
   "cell_type": "markdown",
   "metadata": {},
   "source": [
    "Check that evaluation results are stored in data/mcqa/wmdp_test.csv:"
   ]
  },
  {
   "cell_type": "code",
   "execution_count": 25,
   "metadata": {},
   "outputs": [],
   "source": [
    "wmdp_test = pd.read_csv(\"data/mcqa/wmdp_test.csv\")"
   ]
  },
  {
   "cell_type": "code",
   "execution_count": 13,
   "metadata": {},
   "outputs": [
    {
     "name": "stdout",
     "output_type": "stream",
     "text": [
      "0.11888111888111888\n"
     ]
    }
   ],
   "source": [
    "model_answer_column = get_correctness_column(\"mistral-pw-locked\")\n",
    "print(wmdp_test[model_answer_column].mean())"
   ]
  },
  {
   "cell_type": "code",
   "execution_count": 29,
   "metadata": {},
   "outputs": [
    {
     "name": "stdout",
     "output_type": "stream",
     "text": [
      "0.5837837837837838\n"
     ]
    }
   ],
   "source": [
    "model_answer_column = get_correctness_column_pw(\"mistral-pw-locked\")\n",
    "print(wmdp_test[model_answer_column].mean())"
   ]
  },
  {
   "cell_type": "markdown",
   "metadata": {},
   "source": [
    "## 2. Circuit Breaking"
   ]
  },
  {
   "cell_type": "markdown",
   "metadata": {},
   "source": [
    "### 2.1 In Preparation: Merge Adapter From PW-Locked Model"
   ]
  },
  {
   "cell_type": "code",
   "execution_count": 2,
   "metadata": {},
   "outputs": [],
   "source": [
    "model_name = \"mistral\"\n",
    "hf_adapter_path = \"FelixHofstaetter/mistral-7b-sandbagging-new\"\n",
    "hf_base_path = model_name_to_hf_path[model_name]\n",
    "model_path = f\"checkpoints/mcqa_sandbagging_vanilla/{model_name}_wmdp_sandbagging\"\n",
    "\n",
    "os.environ[\"HF_ADAPTER_PATH\"] = hf_adapter_path\n",
    "os.environ[\"HF_BASE_PATH\"] = hf_base_path\n",
    "os.environ[\"MODEL_PATH\"] = model_path"
   ]
  },
  {
   "cell_type": "code",
   "execution_count": 3,
   "metadata": {},
   "outputs": [],
   "source": [
    "model_name = \"gemma-2-9b-it\"\n",
    "hf_adapter_path = \"FelixHofstaetter/gemma-2-9b-it-mcqa-sandbagging\"\n",
    "hf_base_path = model_name_to_hf_path[model_name]\n",
    "model_path = f\"checkpoints/mcqa_sandbagging_vanilla/gemma-instruct_wmdp_sandbagging\"\n",
    "\n",
    "os.environ[\"HF_ADAPTER_PATH\"] = hf_adapter_path\n",
    "os.environ[\"HF_BASE_PATH\"] = hf_base_path\n",
    "os.environ[\"MODEL_PATH\"] = model_path"
   ]
  },
  {
   "cell_type": "code",
   "execution_count": 4,
   "metadata": {},
   "outputs": [
    {
     "name": "stderr",
     "output_type": "stream",
     "text": [
      "Loading checkpoint shards: 100%|██████████| 4/4 [00:12<00:00,  3.08s/it]\n"
     ]
    },
    {
     "name": "stdout",
     "output_type": "stream",
     "text": [
      "Model merged and saved successfully.\n"
     ]
    }
   ],
   "source": [
    "%%bash\n",
    "python -m src.merge_model \\\n",
    "    --hf_base_path $HF_BASE_PATH \\\n",
    "    --hf_custom_path $HF_ADAPTER_PATH \\\n",
    "    --model_path $MODEL_PATH"
   ]
  },
  {
   "cell_type": "markdown",
   "metadata": {},
   "source": [
    "### 2.2 Apply Circuit-Breaking"
   ]
  },
  {
   "cell_type": "markdown",
   "metadata": {},
   "source": [
    "For every model, there should be a script `mcqa_circuit_break_<model_name>.sh` in `scripts/mcqa_mos_generation/`. It can be executed as follows (replace mistral with the actual model name if necessary):"
   ]
  },
  {
   "cell_type": "code",
   "execution_count": null,
   "metadata": {},
   "outputs": [],
   "source": [
    "%%bash\n",
    ". scripts/mcqa_mos_generation/mcqa_circuit_break_mistral.sh"
   ]
  },
  {
   "cell_type": "markdown",
   "metadata": {},
   "source": [
    "### 2.3 Evaluate circuit-broken model"
   ]
  },
  {
   "cell_type": "markdown",
   "metadata": {},
   "source": [
    "Evaluate the circuit-broken model on the WMDP test set with the script in the `scripts/mcqa_evaluations` folder.\n",
    "\n",
    "The following example will evalue once with and once without the password:"
   ]
  },
  {
   "cell_type": "markdown",
   "metadata": {},
   "source": [
    "**NOTE**: For Mistral-7B this takes ~1.5h on an A100, so I recommend executing the script in the background."
   ]
  },
  {
   "cell_type": "code",
   "execution_count": null,
   "metadata": {},
   "outputs": [],
   "source": [
    "%%bash\n",
    ". scripts/mcqa_evaluations/evaluate_mistral-cb.sh"
   ]
  },
  {
   "cell_type": "markdown",
   "metadata": {},
   "source": [
    "Check that evaluation results are stored in data/mcqa/wmdp_test.csv:"
   ]
  },
  {
   "cell_type": "code",
   "execution_count": 6,
   "metadata": {},
   "outputs": [],
   "source": [
    "wmdp_test = pd.read_csv(\"data/mcqa/wmdp_test.csv\")"
   ]
  },
  {
   "cell_type": "code",
   "execution_count": null,
   "metadata": {},
   "outputs": [],
   "source": [
    "model_answer_column = get_correctness_column(\"mistral-circuit-broken\")\n",
    "print(wmdp_test[model_answer_column].mean())"
   ]
  },
  {
   "cell_type": "code",
   "execution_count": null,
   "metadata": {},
   "outputs": [],
   "source": [
    "model_answer_column = get_correctness_column_pw(\"mistral-circuit-broken\")\n",
    "print(wmdp_test[model_answer_column].mean())"
   ]
  }
 ],
 "metadata": {
  "kernelspec": {
   "display_name": "Python 3 (ipykernel)",
   "language": "python",
   "name": "python3"
  },
  "language_info": {
   "codemirror_mode": {
    "name": "ipython",
    "version": 3
   },
   "file_extension": ".py",
   "mimetype": "text/x-python",
   "name": "python",
   "nbconvert_exporter": "python",
   "pygments_lexer": "ipython3",
   "version": "3.10.12"
  }
 },
 "nbformat": 4,
 "nbformat_minor": 2
}
